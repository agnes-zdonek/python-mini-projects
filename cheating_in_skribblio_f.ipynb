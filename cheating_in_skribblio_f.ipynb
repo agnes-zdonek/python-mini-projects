{
 "cells": [
  {
   "cell_type": "code",
   "execution_count": 125,
   "id": "ad98f5a4",
   "metadata": {},
   "outputs": [],
   "source": [
    "#cheating in skribbl io"
   ]
  },
  {
   "cell_type": "code",
   "execution_count": 1,
   "id": "685a6937",
   "metadata": {},
   "outputs": [],
   "source": [
    "import numpy as np\n",
    "from typing import List"
   ]
  },
  {
   "cell_type": "code",
   "execution_count": 52,
   "id": "61d375cd",
   "metadata": {},
   "outputs": [],
   "source": [
    "#convert a string to a raw sting to sort out unicode problems, specifiy encoding so apostrophes don't come out weird\n",
    "text_file = open(r\"C:\\Users\\agnie\\Desktop\\scrib\\scrib_data.txt\", \"r\", encoding=\"utf-8\") \n",
    " \n",
    "#read whole file to a string\n",
    "string = text_file.read()\n",
    "text_file.close()"
   ]
  },
  {
   "cell_type": "code",
   "execution_count": 53,
   "id": "143b54ce",
   "metadata": {},
   "outputs": [],
   "source": [
    "#words in your text file should be separated by comma\n",
    "x = string.split(\",\")\n",
    "x = [word.lstrip() for word in x]\n",
    "x = [word.rstrip() for word in x]\n",
    "names = x\n"
   ]
  },
  {
   "cell_type": "code",
   "execution_count": 54,
   "id": "0af67023",
   "metadata": {},
   "outputs": [],
   "source": [
    "def two_lists(list_of_words : List[str]):\n",
    "    \n",
    "    with_spaces = []\n",
    "    without_spaces = []\n",
    "    for word in list_of_words:\n",
    "        if (\" \" in word):\n",
    "            with_spaces.append(word)\n",
    "        else:\n",
    "            without_spaces.append(word)\n",
    "    \n",
    "    return without_spaces, with_spaces\n",
    "        \n",
    "                "
   ]
  },
  {
   "cell_type": "code",
   "execution_count": 55,
   "id": "11fae23d",
   "metadata": {},
   "outputs": [],
   "source": [
    "one_word, two_words = two_lists(names)"
   ]
  },
  {
   "cell_type": "code",
   "execution_count": 56,
   "id": "b3310560",
   "metadata": {},
   "outputs": [
    {
     "data": {
      "text/plain": [
       "['Arataki Itto',\n",
       " 'Hu Tao',\n",
       " 'Kaedehara Kazuha',\n",
       " 'Kamisato Ayaka',\n",
       " 'Kujou Sara',\n",
       " 'Raiden Shogun',\n",
       " 'Sangonomiya Kokomi',\n",
       " 'Tartaglia (Childe)',\n",
       " 'Yae Miko\\ntartali',\n",
       " 'darknight hero',\n",
       " 'unknown god',\n",
       " 'madame ping',\n",
       " 'cicin mage',\n",
       " 'fatui maiden',\n",
       " 'pyro fatui agent',\n",
       " 'wei (unusual hilichurl)',\n",
       " 'sexy pyro abyss herald',\n",
       " 'wolf’s gravestone',\n",
       " 'skyward atlas',\n",
       " 'lions roar',\n",
       " 'kagura’s variety',\n",
       " 'al haitham',\n",
       " 'azdaha fatui']"
      ]
     },
     "execution_count": 56,
     "metadata": {},
     "output_type": "execute_result"
    }
   ],
   "source": [
    " two_words"
   ]
  },
  {
   "cell_type": "code",
   "execution_count": 39,
   "id": "3dc745c0",
   "metadata": {},
   "outputs": [],
   "source": [
    "#nb of letters  - list of words for one word expressions"
   ]
  },
  {
   "cell_type": "code",
   "execution_count": 40,
   "id": "c9cfcd10",
   "metadata": {},
   "outputs": [],
   "source": [
    "def dict_ow(list_onew): \n",
    "    \n",
    "    dico : Dict[int, List[str]] = dict()\n",
    "    \n",
    "    for word in list_onew:\n",
    "        lenght = len(word)\n",
    "        if lenght not in dico:\n",
    "            dico[lenght] = []\n",
    "        dico[lenght].append(word)\n",
    "        \n",
    "    return dico\n",
    "    \n",
    "    "
   ]
  },
  {
   "cell_type": "code",
   "execution_count": 41,
   "id": "6b2d670a",
   "metadata": {},
   "outputs": [
    {
     "data": {
      "text/plain": [
       "{8: ['Traveler',\n",
       "  'Chongyun',\n",
       "  'zhongven',\n",
       "  'chiscara',\n",
       "  'ittosara',\n",
       "  'kokosara',\n",
       "  'fakebedo',\n",
       "  'tomokazu',\n",
       "  'chongqiu',\n",
       "  'tighnari',\n",
       "  'kusanali'],\n",
       " 6: ['Albedo',\n",
       "  'Beidou',\n",
       "  'Fischl',\n",
       "  'Keqing',\n",
       "  'Noelle',\n",
       "  'Shenhe',\n",
       "  'Xinyan',\n",
       "  'Yanfei',\n",
       "  'Yunjin',\n",
       "  'Baizhu',\n",
       "  'yantao',\n",
       "  'crepus',\n",
       "  'eimiko',\n",
       "  'teppei',\n",
       "  'teucer',\n",
       "  'timmie',\n",
       "  'paimon',\n",
       "  'dendro',\n",
       "  'dvalin',\n",
       "  'azdaha',\n",
       "  'furasy',\n",
       "  'collei',\n",
       "  'heizou'],\n",
       " 4: ['Aloy',\n",
       "  'Eula',\n",
       "  'Jean',\n",
       "  'Klee',\n",
       "  'Lisa',\n",
       "  'Mona',\n",
       "  'Qiqi',\n",
       "  'Sayu',\n",
       "  'Xiao',\n",
       "  'tomo',\n",
       "  'cyno',\n",
       "  'joel',\n",
       "  'pyro',\n",
       "  'cryo',\n",
       "  'dori',\n",
       "  'kuki'],\n",
       " 5: ['Amber',\n",
       "  'Diluc',\n",
       "  'Diona',\n",
       "  'Ganyu',\n",
       "  'Gorou',\n",
       "  'Kaeya',\n",
       "  'Razor',\n",
       "  'Thoma',\n",
       "  'Venti',\n",
       "  'hydro',\n",
       "  'anemo',\n",
       "  'fatui',\n",
       "  'slime',\n",
       "  'nilou',\n",
       "  'dehya',\n",
       "  'yelan'],\n",
       " 7: ['Barbara',\n",
       "  'Bennett',\n",
       "  'Rosaria',\n",
       "  'Sucrose',\n",
       "  'Xingqiu',\n",
       "  'Yoimiya',\n",
       "  'Zhongli',\n",
       "  'diluven',\n",
       "  'chilumi',\n",
       "  'kaebedo',\n",
       "  'jeanluc',\n",
       "  'ganqing',\n",
       "  'thomato',\n",
       "  'dottore',\n",
       "  'electro',\n",
       "  'andrius',\n",
       "  'signora',\n",
       "  'shenlan',\n",
       "  'heikazu'],\n",
       " 9: ['Ningguang',\n",
       "  'Xiangling',\n",
       "  'beigguang',\n",
       "  'kazuscara',\n",
       "  'dainslumi',\n",
       "  'dainsleif',\n",
       "  'katheryne',\n",
       "  'lavachurl',\n",
       "  'hilichurl'],\n",
       " 11: ['kaebedorose'],\n",
       " 10: ['xiaoaether', 'stringless'],\n",
       " 3: ['ruu', 'geo'],\n",
       " 13: ['whopperflower'],\n",
       " 12: ['heikazuscara'],\n",
       " 0: ['']}"
      ]
     },
     "execution_count": 41,
     "metadata": {},
     "output_type": "execute_result"
    }
   ],
   "source": [
    "dict_ow(one_word)"
   ]
  },
  {
   "cell_type": "code",
   "execution_count": 57,
   "id": "880c7a8e",
   "metadata": {},
   "outputs": [],
   "source": [
    "#nb of letters in the first word - list of words for multiple word expressions"
   ]
  },
  {
   "cell_type": "code",
   "execution_count": 58,
   "id": "5a5e1005",
   "metadata": {},
   "outputs": [],
   "source": [
    "def dict_tw(list_twow): \n",
    "    \n",
    "    dic_firstw : Dict[int, List[str]] = dict()\n",
    "    \n",
    "    for word in list_twow:\n",
    "        number_sp = word.count(\" \")\n",
    "        if number_sp not in dic_firstw:\n",
    "            dic_firstw[number_sp] = []\n",
    "        dic_firstw[number_sp].append(word)\n",
    "        \n",
    "    return dic_firstw \n",
    "            "
   ]
  },
  {
   "cell_type": "code",
   "execution_count": 59,
   "id": "9a046ad4",
   "metadata": {},
   "outputs": [
    {
     "data": {
      "text/plain": [
       "{1: ['Arataki Itto',\n",
       "  'Hu Tao',\n",
       "  'Kaedehara Kazuha',\n",
       "  'Kamisato Ayaka',\n",
       "  'Kujou Sara',\n",
       "  'Raiden Shogun',\n",
       "  'Sangonomiya Kokomi',\n",
       "  'Tartaglia (Childe)',\n",
       "  'Yae Miko\\ntartali',\n",
       "  'darknight hero',\n",
       "  'unknown god',\n",
       "  'madame ping',\n",
       "  'cicin mage',\n",
       "  'fatui maiden',\n",
       "  'wolf’s gravestone',\n",
       "  'skyward atlas',\n",
       "  'lions roar',\n",
       "  'kagura’s variety',\n",
       "  'al haitham',\n",
       "  'azdaha fatui'],\n",
       " 2: ['pyro fatui agent', 'wei (unusual hilichurl)'],\n",
       " 3: ['sexy pyro abyss herald']}"
      ]
     },
     "execution_count": 59,
     "metadata": {},
     "output_type": "execute_result"
    }
   ],
   "source": [
    "dict_tw(two_words)"
   ]
  },
  {
   "cell_type": "code",
   "execution_count": 60,
   "id": "239ec730",
   "metadata": {},
   "outputs": [],
   "source": [
    "def letter_count(not_sorted_names):\n",
    "    \n",
    "    dic : Dict[int, List[str]] = dict()\n",
    "    for word in not_sorted_names:\n",
    "        temp = word.split()\n",
    "        if len(temp[0]) not in dic:\n",
    "            dic[len(temp[0])] = []\n",
    "        dic[len(temp[0])].append(word)\n",
    "    return dic\n",
    "        "
   ]
  },
  {
   "cell_type": "code",
   "execution_count": 45,
   "id": "99184cba",
   "metadata": {},
   "outputs": [],
   "source": [
    "#main function "
   ]
  },
  {
   "cell_type": "code",
   "execution_count": 46,
   "id": "c5fcd1df",
   "metadata": {},
   "outputs": [],
   "source": [
    "def solve(letter_count_in_the_first_word, nb_of_spaces, list_of_words):\n",
    "    \n",
    "    one_word, two_words = two_lists(list_of_words)\n",
    "    if(nb_of_spaces == 0):\n",
    "        dico = dict_ow(one_word)\n",
    "        return dico[letter_count_in_the_first_word]\n",
    "    \n",
    "    dico2 = dict_tw(two_words)\n",
    "    \n",
    "    dico2_1 = letter_count(dico2[nb_of_spaces])\n",
    "    \n",
    "    return dico2_1[letter_count_in_the_first_word]    "
   ]
  },
  {
   "cell_type": "code",
   "execution_count": 47,
   "id": "7b2bb224",
   "metadata": {},
   "outputs": [
    {
     "data": {
      "text/plain": [
       "['sexy pyro abyss herald']"
      ]
     },
     "execution_count": 47,
     "metadata": {},
     "output_type": "execute_result"
    }
   ],
   "source": [
    "solve(4, 3, names)"
   ]
  },
  {
   "cell_type": "code",
   "execution_count": 61,
   "id": "d10c1f64",
   "metadata": {},
   "outputs": [
    {
     "data": {
      "text/plain": [
       "['Kujou Sara', 'cicin mage', 'fatui maiden', 'lions roar']"
      ]
     },
     "execution_count": 61,
     "metadata": {},
     "output_type": "execute_result"
    }
   ],
   "source": [
    "solve(5, 1, names)"
   ]
  },
  {
   "cell_type": "code",
   "execution_count": 67,
   "id": "809163fb",
   "metadata": {},
   "outputs": [
    {
     "data": {
      "text/plain": [
       "['Ningguang',\n",
       " 'Xiangling',\n",
       " 'beigguang',\n",
       " 'kazuscara',\n",
       " 'dainslumi',\n",
       " 'dainsleif',\n",
       " 'katheryne',\n",
       " 'lavachurl',\n",
       " 'hilichurl']"
      ]
     },
     "execution_count": 67,
     "metadata": {},
     "output_type": "execute_result"
    }
   ],
   "source": [
    "solve(9, 0, names)"
   ]
  },
  {
   "cell_type": "code",
   "execution_count": null,
   "id": "912bdbce",
   "metadata": {},
   "outputs": [],
   "source": []
  }
 ],
 "metadata": {
  "kernelspec": {
   "display_name": "Python 3",
   "language": "python",
   "name": "python3"
  },
  "language_info": {
   "codemirror_mode": {
    "name": "ipython",
    "version": 3
   },
   "file_extension": ".py",
   "mimetype": "text/x-python",
   "name": "python",
   "nbconvert_exporter": "python",
   "pygments_lexer": "ipython3",
   "version": "3.8.8"
  }
 },
 "nbformat": 4,
 "nbformat_minor": 5
}
